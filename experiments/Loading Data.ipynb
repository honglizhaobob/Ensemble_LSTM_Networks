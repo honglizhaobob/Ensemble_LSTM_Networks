{
 "cells": [
  {
   "cell_type": "markdown",
   "id": "df38e562",
   "metadata": {},
   "source": [
    "## Tutorial 1: Loading data using `yfinance`\n",
    "\n",
    "* Recommended reading: \n",
    "    * Reliably download historical market data from with Python: https://aroussi.com/post/python-yahoo-finance"
   ]
  },
  {
   "cell_type": "code",
   "execution_count": 109,
   "id": "a949c950",
   "metadata": {},
   "outputs": [],
   "source": [
    "import yfinance as yf\n",
    "import pandas as pd"
   ]
  },
  {
   "cell_type": "code",
   "execution_count": 112,
   "id": "0eaefa97",
   "metadata": {},
   "outputs": [
    {
     "name": "stderr",
     "output_type": "stream",
     "text": [
      "[*********************100%%**********************]  1 of 1 completed\n",
      "[*********************100%%**********************]  1 of 1 completed\n",
      "[*********************100%%**********************]  1 of 1 completed\n",
      "[*********************100%%**********************]  1 of 1 completed\n",
      "[*********************100%%**********************]  1 of 1 completed\n"
     ]
    },
    {
     "name": "stdout",
     "output_type": "stream",
     "text": [
      "> AAPL saved. size = (2265, 6)\n",
      "> MSFT saved. size = (2265, 6)\n",
      "> AMZN saved. size = (2265, 6)\n",
      "> GOOG saved. size = (2265, 6)\n",
      "> INTC saved. size = (2265, 6)\n"
     ]
    },
    {
     "name": "stderr",
     "output_type": "stream",
     "text": [
      "[*********************100%%**********************]  1 of 1 completed\n",
      "[*********************100%%**********************]  1 of 1 completed\n",
      "[*********************100%%**********************]  1 of 1 completed\n",
      "[*********************100%%**********************]  1 of 1 completed\n",
      "[*********************100%%**********************]  1 of 1 completed"
     ]
    },
    {
     "name": "stdout",
     "output_type": "stream",
     "text": [
      "> NVDA saved. size = (2265, 6)\n",
      "> META saved. size = (2265, 6)\n",
      "> CSCO saved. size = (2265, 6)\n",
      "> TSLA saved. size = (2265, 6)\n"
     ]
    },
    {
     "name": "stderr",
     "output_type": "stream",
     "text": [
      "\n",
      "[*********************100%%**********************]  1 of 1 completed\n",
      "[*********************100%%**********************]  1 of 1 completed\n",
      "[*********************100%%**********************]  1 of 1 completed\n"
     ]
    },
    {
     "name": "stdout",
     "output_type": "stream",
     "text": [
      "> ORCL saved. size = (2265, 6)\n",
      "> IBM saved. size = (2265, 6)\n",
      "> CRM saved. size = (2265, 6)\n",
      "> TSM saved. size = (2265, 6)\n"
     ]
    },
    {
     "name": "stderr",
     "output_type": "stream",
     "text": [
      "[*********************100%%**********************]  1 of 1 completed\n",
      "[*********************100%%**********************]  1 of 1 completed\n",
      "[*********************100%%**********************]  1 of 1 completed\n",
      "[*********************100%%**********************]  1 of 1 completed\n"
     ]
    },
    {
     "name": "stdout",
     "output_type": "stream",
     "text": [
      "> ADBE saved. size = (2265, 6)\n",
      "> QCOM saved. size = (2265, 6)\n",
      "> TCEHY saved. size = (2265, 6)\n",
      "> AVGO saved. size = (2265, 6)\n"
     ]
    },
    {
     "name": "stderr",
     "output_type": "stream",
     "text": [
      "[*********************100%%**********************]  1 of 1 completed\n"
     ]
    },
    {
     "name": "stdout",
     "output_type": "stream",
     "text": [
      "> BABA saved. size = (2265, 6)\n"
     ]
    }
   ],
   "source": [
    "# tickers\n",
    "\n",
    "# all the tickers mentioned in the spec\n",
    "TICKERS = [\n",
    "    \"AAPL\", \"MSFT\", \"AMZN\", \"GOOG\", \n",
    "    \"INTC\", \"NVDA\", \"META\", \"CSCO\", \n",
    "    \"TSLA\", \"ORCL\", \"IBM\", \"CRM\", \n",
    "    \"TSM\", \"ADBE\", \"QCOM\", \"TCEHY\", \n",
    "    \"AVGO\", \"BABA\"\n",
    "]\n",
    "start_date = \"2015-04-30\"\n",
    "end_date = \"2024-04-30\"\n",
    "\n",
    "# download all data\n",
    "for i in range(len(TICKERS)):\n",
    "    tk = TICKERS[i]\n",
    "    data = yf.download(\n",
    "        tk, start=start_date, end=end_date\n",
    "    )\n",
    "    # check if NaN values, forward fill\n",
    "    if data.isnull().values.any():\n",
    "        print(\"> {} found null. Forward filled. \".format(tk))\n",
    "        data = data.ffill()\n",
    "    # save data\n",
    "    path = \"./data/{}_{}_TO_{}.csv\".format(tk, start_date, end_date)\n",
    "    data.to_csv(path)\n",
    "    print(\"> {} saved. size = {}\".format(tk, data.shape))"
   ]
  },
  {
   "cell_type": "code",
   "execution_count": 81,
   "id": "84419345",
   "metadata": {},
   "outputs": [],
   "source": [
    "# check data format\n",
    "for tk in TICKERS:\n",
    "    try:\n",
    "        path = \"./data/{}_{}_TO_{}.csv\".format(tk, start_date, end_date)\n",
    "        data = pd.read_csv(path)\n",
    "    except:\n",
    "        print(\"{} in the range {} to {} does not exist locally. \".format(tk, start_date, end_date))\n",
    "    assert not data.isnull().values.any()"
   ]
  },
  {
   "cell_type": "code",
   "execution_count": 54,
   "id": "39fd30ae",
   "metadata": {},
   "outputs": [
    {
     "data": {
      "text/plain": [
       "(2418, 7)"
      ]
     },
     "execution_count": 54,
     "metadata": {},
     "output_type": "execute_result"
    }
   ],
   "source": [
    "data.shape"
   ]
  },
  {
   "cell_type": "markdown",
   "id": "0a540e8c",
   "metadata": {},
   "source": [
    "Ensure that all date indices match."
   ]
  },
  {
   "cell_type": "code",
   "execution_count": 94,
   "id": "c918c85e",
   "metadata": {},
   "outputs": [],
   "source": [
    "tmp = None\n",
    "for tk in TICKERS:\n",
    "    path = \"./data/{}_{}_TO_{}.csv\".format(tk, start_date, end_date)\n",
    "    prev = tmp\n",
    "    tmp = pd.read_csv(path).Date\n",
    "    if prev is not None:\n",
    "        assert (tmp == prev).all()"
   ]
  },
  {
   "cell_type": "markdown",
   "id": "83a90fc5",
   "metadata": {},
   "source": [
    "### Get Fundamentals\n",
    "\n",
    "Mainly interested in market cap at Q1 2024. `yfinance` does not seem to provide historical market cap data directly through their API. We can have a workaround:\n",
    "1. find the day the company's quarterly report is made by\n",
    "2. query `total number of shares` and `close`\n",
    "3. compute `market cap` $=$ `total number of shares` $*$ `close`\n",
    "\n",
    "**Update**: outputting current market cap instead"
   ]
  },
  {
   "cell_type": "code",
   "execution_count": null,
   "id": "55b42f78",
   "metadata": {},
   "outputs": [],
   "source": []
  },
  {
   "cell_type": "markdown",
   "id": "b04496db",
   "metadata": {},
   "source": [
    "Save data frame example as an image"
   ]
  },
  {
   "cell_type": "code",
   "execution_count": 107,
   "id": "d3b81d6b",
   "metadata": {},
   "outputs": [],
   "source": [
    "import dataframe_image as dfi"
   ]
  },
  {
   "cell_type": "code",
   "execution_count": 108,
   "id": "e29e54d6",
   "metadata": {},
   "outputs": [],
   "source": [
    "dfi.export(data.head(), './img/{}_dataframe.png'.format(tk))"
   ]
  },
  {
   "cell_type": "code",
   "execution_count": null,
   "id": "d2d07597",
   "metadata": {},
   "outputs": [],
   "source": []
  },
  {
   "cell_type": "code",
   "execution_count": null,
   "id": "ba90f5d7",
   "metadata": {},
   "outputs": [],
   "source": []
  }
 ],
 "metadata": {
  "kernelspec": {
   "display_name": "Python 3 (ipykernel)",
   "language": "python",
   "name": "python3"
  },
  "language_info": {
   "codemirror_mode": {
    "name": "ipython",
    "version": 3
   },
   "file_extension": ".py",
   "mimetype": "text/x-python",
   "name": "python",
   "nbconvert_exporter": "python",
   "pygments_lexer": "ipython3",
   "version": "3.9.16"
  }
 },
 "nbformat": 4,
 "nbformat_minor": 5
}
